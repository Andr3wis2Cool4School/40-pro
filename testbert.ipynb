{
 "cells": [
  {
   "cell_type": "code",
   "execution_count": 15,
   "metadata": {},
   "outputs": [],
   "source": [
    "import pandas as pd \n",
    "import torch\n",
    "from pytorch_pretrained import BertModel,BertTokenizer"
   ]
  },
  {
   "cell_type": "code",
   "execution_count": 2,
   "metadata": {},
   "outputs": [],
   "source": [
    "df = pd.read_csv('data/test.csv')"
   ]
  },
  {
   "cell_type": "code",
   "execution_count": 7,
   "metadata": {},
   "outputs": [],
   "source": [
    "for index, row in df.iterrows():\n",
    "    content = row['Text']\n",
    "    label = row['Label']\n",
    "    if index == 5:\n",
    "        break"
   ]
  },
  {
   "cell_type": "code",
   "execution_count": 8,
   "metadata": {},
   "outputs": [
    {
     "data": {
      "text/plain": [
       "'ANKARA (Reuters) - Turkish police fired tear gas to disperse protesters outside a courthouse in Ankara on Thursday at the start of the trial of two teachers who have been on hunger strike since losing their jobs in a crackdown following last year s failed coup. Literature professor Nuriye Gulmen and primary school teacher Semih Ozakca have been surviving on liquids and supplements for six months, and doctors have described their condition as dangerously weak. They were detained in May over alleged links to the militant leftist DHKP-C group, deemed a terrorist organization by Turkey, and the court on Thursday ruled that they be remanded in custody until the next session in two weeks. Neither they nor their original lawyers were in court. The gendarmerie said the defendants might try to escape from the courtroom, despite their weakened state, and arrest warrants were issued this week for 18 of their lawyers.  Police attempted to break up the protests using tear gas, and riot police were present inside and outside the building. At least 20 protesters were detained, being dragged along the ground in the process.  The first obstacle before a fair trial was the detention of their lawyers, which also served as a veiled intimidation attempt at the judges trying them. Now they are not brought to court, in an open breach of their right to defend,  said Baris Yarkadas, a lawmaker from the main opposition Republican People s Party (CHP). At least a hundred lawyers were present at the courthouse to defend the teachers, along with CHP parliamentarians and the pro-Kurdish opposition Peoples  Democratic Party (HDP). The court refused the applications of 1,030 lawyers who wanted to represent the teachers, saying it would limit the defense s representation to three lawyers for the duration of the trial. The trial s second hearing will be held in Ankara on Sept. 28. The teachers have said their hunger strike aimed to draw attention to the plight of roughly 150,000 people suspended or sacked since last July s failed coup, which President Tayyip Erdogan blames on followers of U.S.-based Muslim cleric Fethullah Gulen. Gulen denies any involvement. Last month, the European Court of Human Rights rejected a request by the two teachers to order Ankara to release them on health grounds. Since the failed coup attempt, some 50,000 people including journalists, opposition figures, civil servants and others have been detained in the crackdown. Rights groups and Turkey s Western allies accuse the government of using the coup as a pretext to muzzle dissent. Ankara says the purges are necessary due to the gravity of the threats it faces. '"
      ]
     },
     "execution_count": 8,
     "metadata": {},
     "output_type": "execute_result"
    }
   ],
   "source": [
    "content"
   ]
  },
  {
   "cell_type": "code",
   "execution_count": 9,
   "metadata": {},
   "outputs": [
    {
     "data": {
      "text/plain": [
       "2652"
      ]
     },
     "execution_count": 9,
     "metadata": {},
     "output_type": "execute_result"
    }
   ],
   "source": [
    "len(content)"
   ]
  },
  {
   "cell_type": "code",
   "execution_count": 12,
   "metadata": {},
   "outputs": [
    {
     "data": {
      "text/plain": [
       "str"
      ]
     },
     "execution_count": 12,
     "metadata": {},
     "output_type": "execute_result"
    }
   ],
   "source": [
    "type(content)"
   ]
  },
  {
   "cell_type": "code",
   "execution_count": 18,
   "metadata": {},
   "outputs": [
    {
     "ename": "TypeError",
     "evalue": "tokenize() missing 1 required positional argument: 'text'",
     "output_type": "error",
     "traceback": [
      "\u001b[1;31m---------------------------------------------------------------------------\u001b[0m",
      "\u001b[1;31mTypeError\u001b[0m                                 Traceback (most recent call last)",
      "\u001b[1;32m<ipython-input-18-ab868946ee13>\u001b[0m in \u001b[0;36m<module>\u001b[1;34m\u001b[0m\n\u001b[1;32m----> 1\u001b[1;33m \u001b[0mtoken\u001b[0m \u001b[1;33m=\u001b[0m \u001b[0mBertTokenizer\u001b[0m\u001b[1;33m.\u001b[0m\u001b[0mtokenize\u001b[0m\u001b[1;33m(\u001b[0m\u001b[0mcontent\u001b[0m\u001b[1;33m)\u001b[0m\u001b[1;33m\u001b[0m\u001b[1;33m\u001b[0m\u001b[0m\n\u001b[0m",
      "\u001b[1;31mTypeError\u001b[0m: tokenize() missing 1 required positional argument: 'text'"
     ]
    }
   ],
   "source": [
    "token = BertTokenizer.tokenize(content)"
   ]
  },
  {
   "cell_type": "code",
   "execution_count": null,
   "metadata": {},
   "outputs": [],
   "source": []
  }
 ],
 "metadata": {
  "kernelspec": {
   "display_name": "Python 3",
   "language": "python",
   "name": "python3"
  },
  "language_info": {
   "codemirror_mode": {
    "name": "ipython",
    "version": 3
   },
   "file_extension": ".py",
   "mimetype": "text/x-python",
   "name": "python",
   "nbconvert_exporter": "python",
   "pygments_lexer": "ipython3",
   "version": "3.8.5"
  }
 },
 "nbformat": 4,
 "nbformat_minor": 4
}
